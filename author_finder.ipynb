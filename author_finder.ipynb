{
 "cells": [
  {
   "attachments": {},
   "cell_type": "markdown",
   "id": "c90bf3f0",
   "metadata": {},
   "source": [
    "# RDoC Expert Survey Author Finder\n",
    "Chris Iyer\n",
    "Updated 3/23/2023\n",
    "\n",
    "This is a notebook designed to find authors' emails for the purposes of sending them our RDoC Expert Survey Screener. Leveraging functions from `author_finder_functions.py`, this notebook will do the following things for each of the tasks we are using:\n",
    "1. Search pubmed central (PMC) for open-access articles in the past 10 years with task keywords in the abstract.\n",
    "2. Obtain correspondence/author emails for as many of these articles as possible.\n",
    "3. Retrieve the number of PMC articles that cite the given PMC article.\n",
    "4. Select the top <n> (100?) most-cited papers and retrieve their emails in order to send them our expert screener. \n",
    "5. We'll write these emails to a CSV.\n"
   ]
  },
  {
   "cell_type": "code",
   "execution_count": 1,
   "id": "bc3efeb2",
   "metadata": {},
   "outputs": [],
   "source": [
    "from author_finder_functions import *"
   ]
  },
  {
   "cell_type": "code",
   "execution_count": 2,
   "id": "a99ce4b4",
   "metadata": {},
   "outputs": [],
   "source": [
    "ROOT_PATH = '/Users/sunjaeshim/Documents/GitHub/author_finder/pubget_data_5_18_2008-2023/' # change this to match your local desired path\n",
    "\n",
    "# tasks: 'spatial_cueing', 'visual_search', 'cued_ts', 'ax_cpt', 'flanker', 'stroop', 'stop_signal', 'go_nogo', 'span', 'change_detection', 'n_back'\n",
    "all_tasks = ['spatial_cueing', 'visual_search', 'cued_ts', 'ax_cpt', 'flanker', 'stroop', 'stop_signal', 'go_nogo', 'span', 'change_detection', 'n_back']\n",
    "tasks_to_run = all_tasks\n",
    "\n",
    "# if you would like to manually change the keywords to search through, do so here:\n",
    "# task_keywords[task_to_run] = ['stop-signal task', 'stop signal task']"
   ]
  },
  {
   "attachments": {},
   "cell_type": "markdown",
   "id": "f8d53f9a",
   "metadata": {},
   "source": [
    "### Option 1: run all-in-one"
   ]
  },
  {
   "cell_type": "code",
   "execution_count": 3,
   "id": "1aea3a17",
   "metadata": {},
   "outputs": [
    {
     "name": "stdout",
     "output_type": "stream",
     "text": [
      "STARTING TASK: spatial_cueing\n",
      "Executing command: pubget run /Users/sunjaeshim/Documents/GitHub/author_finder/pubget_data_5_16_2008-2023/spatial_cueing -q '\"(spatial cueing task[Abstract]) OR (Posner cueing task[Abstract]) OR (Posner paradigm[Abstract]) OR (spatial cueing paradigm[Abstract]) AND (\"2008\"[Publication Date] : \"2023\"[Publication Date])\"'\n",
      "Files in /Users/sunjaeshim/Documents/GitHub/author_finder/pubget_data_5_16_2008-2023/spatial_cueing: ['query_90ee408ab8593bac7220dd05998a2cab']\n",
      "article set path:  /Users/sunjaeshim/Documents/GitHub/author_finder/pubget_data_5_16_2008-2023/spatial_cueing/query_90ee408ab8593bac7220dd05998a2cab/articlesets\n",
      "Article set #1:\n",
      "Out of 79 papers, 78 had emails and 1 did not.\n",
      "STARTING TASK: visual_search\n",
      "Executing command: pubget run /Users/sunjaeshim/Documents/GitHub/author_finder/pubget_data_5_16_2008-2023/visual_search -q '\"(visual search task[Abstract]) OR (visual search paradigm[Abstract]) AND (\"2008\"[Publication Date] : \"2023\"[Publication Date])\"'\n",
      "Files in /Users/sunjaeshim/Documents/GitHub/author_finder/pubget_data_5_16_2008-2023/visual_search: ['query_24c593e68825451bb4fd14a2af84cfc8']\n",
      "article set path:  /Users/sunjaeshim/Documents/GitHub/author_finder/pubget_data_5_16_2008-2023/visual_search/query_24c593e68825451bb4fd14a2af84cfc8/articlesets\n",
      "Article set #1:\n",
      "Out of 364 papers, 357 had emails and 7 did not.\n",
      "STARTING TASK: cued_ts\n",
      "Executing command: pubget run /Users/sunjaeshim/Documents/GitHub/author_finder/pubget_data_5_16_2008-2023/cued_ts -q '\"(cued task switching[Abstract]) OR (cued task-switching[Abstract]) OR (spatial task switching[Abstract]) OR (spatial task-switching[Abstract]) OR (task switching task[Abstract]) OR (task switching paradigm[Abstract]) OR (task-switching task[Abstract]) OR (task-switching paradigm[Abstract]) AND (\"2008\"[Publication Date] : \"2023\"[Publication Date])\"'\n",
      "Files in /Users/sunjaeshim/Documents/GitHub/author_finder/pubget_data_5_16_2008-2023/cued_ts: ['query_a08b4a8800a15d39bb53c378497eb3ba']\n",
      "article set path:  /Users/sunjaeshim/Documents/GitHub/author_finder/pubget_data_5_16_2008-2023/cued_ts/query_a08b4a8800a15d39bb53c378497eb3ba/articlesets\n",
      "Article set #1:\n",
      "Out of 125 papers, 119 had emails and 6 did not.\n",
      "STARTING TASK: ax_cpt\n",
      "Executing command: pubget run /Users/sunjaeshim/Documents/GitHub/author_finder/pubget_data_5_16_2008-2023/ax_cpt -q '\"(AX-CPT[Abstract]) OR (AXCPT[Abstract]) OR (dot pattern expectancy[Abstract]) OR (AX Continuous Performance Test[Abstract]) OR (DPX task[Abstract]) OR (DPX paradigm[Abstract]) AND (\"2008\"[Publication Date] : \"2023\"[Publication Date])\"'\n",
      "Files in /Users/sunjaeshim/Documents/GitHub/author_finder/pubget_data_5_16_2008-2023/ax_cpt: ['query_74fa50bedd683e97edf12ee726cd93ab']\n",
      "article set path:  /Users/sunjaeshim/Documents/GitHub/author_finder/pubget_data_5_16_2008-2023/ax_cpt/query_74fa50bedd683e97edf12ee726cd93ab/articlesets\n",
      "Article set #1:\n",
      "Out of 56 papers, 54 had emails and 2 did not.\n",
      "STARTING TASK: flanker\n",
      "Executing command: pubget run /Users/sunjaeshim/Documents/GitHub/author_finder/pubget_data_5_16_2008-2023/flanker -q '\"(flanker task[Abstract]) OR (Eriksen flanker[Abstract]) OR (flanker paradigm[Abstract]) AND (\"2008\"[Publication Date] : \"2023\"[Publication Date])\"'\n",
      "Files in /Users/sunjaeshim/Documents/GitHub/author_finder/pubget_data_5_16_2008-2023/flanker: ['query_20387135a21a0322f3183bf691e94b35']\n",
      "article set path:  /Users/sunjaeshim/Documents/GitHub/author_finder/pubget_data_5_16_2008-2023/flanker/query_20387135a21a0322f3183bf691e94b35/articlesets\n",
      "Article set #1:\n",
      "Out of 445 papers, 440 had emails and 5 did not.\n",
      "STARTING TASK: stroop\n",
      "Executing command: pubget run /Users/sunjaeshim/Documents/GitHub/author_finder/pubget_data_5_16_2008-2023/stroop -q '\"(stroop task[Abstract]) OR (stroop test[Abstract]) OR (stroop paradigm[Abstract]) OR (stroop effect[Abstract]) AND (\"2008\"[Publication Date] : \"2023\"[Publication Date])\"'\n",
      "Files in /Users/sunjaeshim/Documents/GitHub/author_finder/pubget_data_5_16_2008-2023/stroop: ['query_91159357ac08834a7c0d4fc7800d899f']\n",
      "article set path:  /Users/sunjaeshim/Documents/GitHub/author_finder/pubget_data_5_16_2008-2023/stroop/query_91159357ac08834a7c0d4fc7800d899f/articlesets\n",
      "Article set #1:\n",
      "Out of 238 papers, 238 had emails and 0 did not.\n",
      "Article set #2:\n",
      "Out of 500 papers, 488 had emails and 12 did not.\n",
      "Article set #3:\n",
      "Out of 500 papers, 475 had emails and 25 did not.\n",
      "STARTING TASK: stop_signal\n",
      "Executing command: pubget run /Users/sunjaeshim/Documents/GitHub/author_finder/pubget_data_5_16_2008-2023/stop_signal -q '\"(stop-signal task[Abstract]) OR (stop signal task[Abstract]) AND (\"2008\"[Publication Date] : \"2023\"[Publication Date])\"'\n",
      "Files in /Users/sunjaeshim/Documents/GitHub/author_finder/pubget_data_5_16_2008-2023/stop_signal: ['query_a3f92bd051f6d0ebcd355f16783c1d12']\n",
      "article set path:  /Users/sunjaeshim/Documents/GitHub/author_finder/pubget_data_5_16_2008-2023/stop_signal/query_a3f92bd051f6d0ebcd355f16783c1d12/articlesets\n",
      "Article set #1:\n",
      "Out of 377 papers, 369 had emails and 8 did not.\n",
      "STARTING TASK: go_nogo\n",
      "Executing command: pubget run /Users/sunjaeshim/Documents/GitHub/author_finder/pubget_data_5_16_2008-2023/go_nogo -q '\"(go/no go task[Abstract]) OR (go/no-go task[Abstract]) OR (go-no go task[Abstract]) OR (go no go task[Abstract]) OR (go no-go task[Abstract]) OR (go nogo task[Abstract]) OR (go nogo paradigm[Abstract]) OR (go/no go paradigm[Abstract]) OR (go/no-go paradigm[Abstract]) OR (go-no go paradigm[Abstract]) OR (go no go paradigm[Abstract]) OR (go no-go paradigm[Abstract]) OR (go nogo paradigm[Abstract]) AND (\"2008\"[Publication Date] : \"2023\"[Publication Date])\"'\n",
      "Files in /Users/sunjaeshim/Documents/GitHub/author_finder/pubget_data_5_16_2008-2023/go_nogo: ['query_37e6467be246ad47b1fcd04e141f76ff']\n",
      "article set path:  /Users/sunjaeshim/Documents/GitHub/author_finder/pubget_data_5_16_2008-2023/go_nogo/query_37e6467be246ad47b1fcd04e141f76ff/articlesets\n",
      "Article set #1:\n",
      "Out of 238 papers, 238 had emails and 0 did not.\n",
      "Article set #2:\n",
      "Out of 500 papers, 486 had emails and 14 did not.\n",
      "STARTING TASK: span\n",
      "Executing command: pubget run /Users/sunjaeshim/Documents/GitHub/author_finder/pubget_data_5_16_2008-2023/span -q '\"(span task[Abstract]) OR (working memory span task[Abstract]) OR (complex span task[Abstract]) OR (simple span task[Abstract]) OR (working memory span paradigm[Abstract]) OR (complex span paradigm[Abstract]) OR (simple span paradigm[Abstract]) AND (\"2008\"[Publication Date] : \"2023\"[Publication Date])\"'\n",
      "Files in /Users/sunjaeshim/Documents/GitHub/author_finder/pubget_data_5_16_2008-2023/span: ['query_9ea21e22f135592a3cf678f926af025d']\n",
      "article set path:  /Users/sunjaeshim/Documents/GitHub/author_finder/pubget_data_5_16_2008-2023/span/query_9ea21e22f135592a3cf678f926af025d/articlesets\n",
      "Article set #1:\n",
      "Out of 148 papers, 143 had emails and 5 did not.\n",
      "STARTING TASK: change_detection\n",
      "Executing command: pubget run /Users/sunjaeshim/Documents/GitHub/author_finder/pubget_data_5_16_2008-2023/change_detection -q '\"(change detection task[Abstract]) OR (change blindness task[Abstract]) OR (change detection paradigm[Abstract]) OR (change blindness paradigm[Abstract]) AND (\"2008\"[Publication Date] : \"2023\"[Publication Date])\"'\n",
      "Files in /Users/sunjaeshim/Documents/GitHub/author_finder/pubget_data_5_16_2008-2023/change_detection: ['query_fbd6eafb5dbf910d6690267ce3f494fb']\n",
      "article set path:  /Users/sunjaeshim/Documents/GitHub/author_finder/pubget_data_5_16_2008-2023/change_detection/query_fbd6eafb5dbf910d6690267ce3f494fb/articlesets\n",
      "Article set #1:\n",
      "Out of 187 papers, 182 had emails and 5 did not.\n",
      "STARTING TASK: n_back\n",
      "Executing command: pubget run /Users/sunjaeshim/Documents/GitHub/author_finder/pubget_data_5_16_2008-2023/n_back -q '\"(n-back task[Abstract]) OR (n back task[Abstract]) OR (nback task[Abstract]) OR (n-back paradigm[Abstract]) OR (n back paradigm[Abstract]) OR (nback paradigm[Abstract]) AND (\"2008\"[Publication Date] : \"2023\"[Publication Date])\"'\n",
      "Files in /Users/sunjaeshim/Documents/GitHub/author_finder/pubget_data_5_16_2008-2023/n_back: ['query_42d0148b37afb2c1f2a369434deabc3d']\n",
      "article set path:  /Users/sunjaeshim/Documents/GitHub/author_finder/pubget_data_5_16_2008-2023/n_back/query_42d0148b37afb2c1f2a369434deabc3d/articlesets\n",
      "Article set #1:\n",
      "Out of 395 papers, 383 had emails and 12 did not.\n"
     ]
    },
    {
     "data": {
      "text/plain": [
       "'Done!'"
      ]
     },
     "execution_count": 3,
     "metadata": {},
     "output_type": "execute_result"
    }
   ],
   "source": [
    "run_author_finder(tasks_to_run, ROOT_PATH, output = 'csv') # output = 'txt'"
   ]
  },
  {
   "attachments": {},
   "cell_type": "markdown",
   "id": "ec86bab4",
   "metadata": {},
   "source": [
    "### Option 2: Run step-by-step"
   ]
  },
  {
   "cell_type": "code",
   "execution_count": 3,
   "id": "3ef12174",
   "metadata": {},
   "outputs": [
    {
     "name": "stdout",
     "output_type": "stream",
     "text": [
      "Output path: /Users/sunjaeshim/Documents/GitHub/author_finder/pubget_data_5_18_2008-2023/stop_signal\n"
     ]
    }
   ],
   "source": [
    "task_to_run = tasks_to_run[6] # CHANGE THIS\n",
    "\n",
    "outpath = os.path.join(ROOT_PATH, task_to_run)\n",
    "print(f'Output path: {outpath}')"
   ]
  },
  {
   "cell_type": "code",
   "execution_count": 4,
   "id": "73f0cd25",
   "metadata": {},
   "outputs": [
    {
     "name": "stdout",
     "output_type": "stream",
     "text": [
      "Executing command: pubget run /Users/sunjaeshim/Documents/GitHub/author_finder/pubget_data_5_18_2008-2023/stop_signal -q '\"(stop-signal task[Abstract]) OR (stop signal task[Abstract]) OR (stop-signal paradigm[Abstract]) OR (stop signal paradigm[Abstract]) AND (\"2008\"[Publication Date] : \"2023\"[Publication Date])\"'\n",
      "Files in /Users/sunjaeshim/Documents/GitHub/author_finder/pubget_data_5_18_2008-2023/stop_signal: ['query_e229f3be77a3ed39b27119b07030cc24']\n"
     ]
    }
   ],
   "source": [
    "# 1. pubmed search\n",
    "do_pubget_query(task_to_run, outpath) # writes directory with search results"
   ]
  },
  {
   "cell_type": "code",
   "execution_count": 5,
   "id": "ef4dba3d",
   "metadata": {},
   "outputs": [
    {
     "name": "stdout",
     "output_type": "stream",
     "text": [
      "article set path:  /Users/sunjaeshim/Documents/GitHub/author_finder/pubget_data_5_18_2008-2023/stop_signal/query_e229f3be77a3ed39b27119b07030cc24/articlesets\n",
      "Article set #1:\n",
      "Out of 404 papers, 396 had emails and 8 did not.\n"
     ]
    }
   ],
   "source": [
    "# 2. Pull emails and PMCIDS\n",
    "papers = get_all_emails(outpath) # PMCIDs and emails"
   ]
  },
  {
   "cell_type": "code",
   "execution_count": 6,
   "id": "c55d0845",
   "metadata": {},
   "outputs": [],
   "source": [
    "# 3. Top 100 most cited\n",
    "papers_top = get_most_cited(papers, n=100)"
   ]
  },
  {
   "cell_type": "code",
   "execution_count": 7,
   "id": "6a111086",
   "metadata": {},
   "outputs": [
    {
     "data": {
      "text/html": [
       "<div>\n",
       "<style scoped>\n",
       "    .dataframe tbody tr th:only-of-type {\n",
       "        vertical-align: middle;\n",
       "    }\n",
       "\n",
       "    .dataframe tbody tr th {\n",
       "        vertical-align: top;\n",
       "    }\n",
       "\n",
       "    .dataframe thead th {\n",
       "        text-align: right;\n",
       "    }\n",
       "</style>\n",
       "<table border=\"1\" class=\"dataframe\">\n",
       "  <thead>\n",
       "    <tr style=\"text-align: right;\">\n",
       "      <th></th>\n",
       "      <th>pmcid</th>\n",
       "      <th>doi</th>\n",
       "      <th>title</th>\n",
       "      <th>journal</th>\n",
       "      <th>publication_year</th>\n",
       "      <th>emails</th>\n",
       "      <th>citation_count</th>\n",
       "    </tr>\n",
       "  </thead>\n",
       "  <tbody>\n",
       "    <tr>\n",
       "      <th>0</th>\n",
       "      <td>2845804</td>\n",
       "      <td>10.1016/j.neuroimage.2009.12.109</td>\n",
       "      <td>The role of the right inferior frontal gyrus: ...</td>\n",
       "      <td>Neuroimage</td>\n",
       "      <td>2010</td>\n",
       "      <td>[adam.hampshire@mrc-cbu.cam.ac.uk]</td>\n",
       "      <td>502</td>\n",
       "    </tr>\n",
       "    <tr>\n",
       "      <th>1</th>\n",
       "      <td>6533084</td>\n",
       "      <td>10.7554/eLife.46323</td>\n",
       "      <td>A consensus guide to capturing the ability to ...</td>\n",
       "      <td>eLife</td>\n",
       "      <td>2019</td>\n",
       "      <td>[frederick.verbruggen@ugent.be]</td>\n",
       "      <td>197</td>\n",
       "    </tr>\n",
       "    <tr>\n",
       "      <th>2</th>\n",
       "      <td>3733500</td>\n",
       "      <td>10.1038/nn.3456</td>\n",
       "      <td>Canceling actions involves a race between basa...</td>\n",
       "      <td>Nat Neurosci</td>\n",
       "      <td>2013</td>\n",
       "      <td>[]</td>\n",
       "      <td>176</td>\n",
       "    </tr>\n",
       "    <tr>\n",
       "      <th>3</th>\n",
       "      <td>3724271</td>\n",
       "      <td>10.1177/0956797612457390</td>\n",
       "      <td>Fictitious Inhibitory Differences</td>\n",
       "      <td>Psychol Sci</td>\n",
       "      <td>2013</td>\n",
       "      <td>[f.l.j.verbruggen@exeter.ac.uk]</td>\n",
       "      <td>139</td>\n",
       "    </tr>\n",
       "    <tr>\n",
       "      <th>4</th>\n",
       "      <td>2973972</td>\n",
       "      <td>10.1371/journal.pone.0013848</td>\n",
       "      <td>On the Role of the Striatum in Response Inhibi...</td>\n",
       "      <td>PLoS One</td>\n",
       "      <td>2010</td>\n",
       "      <td>[b.b.zandbelt@umcutrecht.nl]</td>\n",
       "      <td>138</td>\n",
       "    </tr>\n",
       "    <tr>\n",
       "      <th>...</th>\n",
       "      <td>...</td>\n",
       "      <td>...</td>\n",
       "      <td>...</td>\n",
       "      <td>...</td>\n",
       "      <td>...</td>\n",
       "      <td>...</td>\n",
       "      <td>...</td>\n",
       "    </tr>\n",
       "    <tr>\n",
       "      <th>95</th>\n",
       "      <td>6190063</td>\n",
       "      <td>10.1017/S0033291718000107</td>\n",
       "      <td>Children with ADHD symptoms show deficits in r...</td>\n",
       "      <td>Psychol Med</td>\n",
       "      <td>2018</td>\n",
       "      <td>[b.vanhulst@umcutrecht.nl]</td>\n",
       "      <td>15</td>\n",
       "    </tr>\n",
       "    <tr>\n",
       "      <th>96</th>\n",
       "      <td>4594014</td>\n",
       "      <td>10.3389/fnhum.2015.00529</td>\n",
       "      <td>The effects of impulsivity and proactive inhib...</td>\n",
       "      <td>Front Hum Neurosci</td>\n",
       "      <td>2015</td>\n",
       "      <td>[leidy-janeth.castro-meneses@students.mq.edu.au]</td>\n",
       "      <td>15</td>\n",
       "    </tr>\n",
       "    <tr>\n",
       "      <th>97</th>\n",
       "      <td>4469608</td>\n",
       "      <td>10.1371/journal.pone.0129139</td>\n",
       "      <td>Barratt Impulsivity and Neural Regulation of P...</td>\n",
       "      <td>PLoS One</td>\n",
       "      <td>2015</td>\n",
       "      <td>[chiang-shan.li@yale.edu, sheng.zhang@yale.edu]</td>\n",
       "      <td>15</td>\n",
       "    </tr>\n",
       "    <tr>\n",
       "      <th>98</th>\n",
       "      <td>3949195</td>\n",
       "      <td>10.3389/fnbeh.2014.00049</td>\n",
       "      <td>Chronic exercise keeps working memory and inhi...</td>\n",
       "      <td>Front Behav Neurosci</td>\n",
       "      <td>2014</td>\n",
       "      <td>[c.padilla@uib.es]</td>\n",
       "      <td>15</td>\n",
       "    </tr>\n",
       "    <tr>\n",
       "      <th>99</th>\n",
       "      <td>3927451</td>\n",
       "      <td>10.3389/fnhum.2014.00061</td>\n",
       "      <td>Stopping eyes and hands: evidence for non-inde...</td>\n",
       "      <td>Front Hum Neurosci</td>\n",
       "      <td>2014</td>\n",
       "      <td>[a.gulberti@uke.uni-hamburg.de, hans.colonius@...</td>\n",
       "      <td>15</td>\n",
       "    </tr>\n",
       "  </tbody>\n",
       "</table>\n",
       "<p>100 rows × 7 columns</p>\n",
       "</div>"
      ],
      "text/plain": [
       "      pmcid                               doi  \\\n",
       "0   2845804  10.1016/j.neuroimage.2009.12.109   \n",
       "1   6533084               10.7554/eLife.46323   \n",
       "2   3733500                   10.1038/nn.3456   \n",
       "3   3724271          10.1177/0956797612457390   \n",
       "4   2973972      10.1371/journal.pone.0013848   \n",
       "..      ...                               ...   \n",
       "95  6190063         10.1017/S0033291718000107   \n",
       "96  4594014          10.3389/fnhum.2015.00529   \n",
       "97  4469608      10.1371/journal.pone.0129139   \n",
       "98  3949195          10.3389/fnbeh.2014.00049   \n",
       "99  3927451          10.3389/fnhum.2014.00061   \n",
       "\n",
       "                                                title               journal  \\\n",
       "0   The role of the right inferior frontal gyrus: ...            Neuroimage   \n",
       "1   A consensus guide to capturing the ability to ...                 eLife   \n",
       "2   Canceling actions involves a race between basa...          Nat Neurosci   \n",
       "3                   Fictitious Inhibitory Differences           Psychol Sci   \n",
       "4   On the Role of the Striatum in Response Inhibi...              PLoS One   \n",
       "..                                                ...                   ...   \n",
       "95  Children with ADHD symptoms show deficits in r...           Psychol Med   \n",
       "96  The effects of impulsivity and proactive inhib...    Front Hum Neurosci   \n",
       "97  Barratt Impulsivity and Neural Regulation of P...              PLoS One   \n",
       "98  Chronic exercise keeps working memory and inhi...  Front Behav Neurosci   \n",
       "99  Stopping eyes and hands: evidence for non-inde...    Front Hum Neurosci   \n",
       "\n",
       "   publication_year                                             emails  \\\n",
       "0              2010                 [adam.hampshire@mrc-cbu.cam.ac.uk]   \n",
       "1              2019                    [frederick.verbruggen@ugent.be]   \n",
       "2              2013                                                 []   \n",
       "3              2013                    [f.l.j.verbruggen@exeter.ac.uk]   \n",
       "4              2010                       [b.b.zandbelt@umcutrecht.nl]   \n",
       "..              ...                                                ...   \n",
       "95             2018                         [b.vanhulst@umcutrecht.nl]   \n",
       "96             2015   [leidy-janeth.castro-meneses@students.mq.edu.au]   \n",
       "97             2015    [chiang-shan.li@yale.edu, sheng.zhang@yale.edu]   \n",
       "98             2014                                 [c.padilla@uib.es]   \n",
       "99             2014  [a.gulberti@uke.uni-hamburg.de, hans.colonius@...   \n",
       "\n",
       "   citation_count  \n",
       "0             502  \n",
       "1             197  \n",
       "2             176  \n",
       "3             139  \n",
       "4             138  \n",
       "..            ...  \n",
       "95             15  \n",
       "96             15  \n",
       "97             15  \n",
       "98             15  \n",
       "99             15  \n",
       "\n",
       "[100 rows x 7 columns]"
      ]
     },
     "execution_count": 7,
     "metadata": {},
     "output_type": "execute_result"
    }
   ],
   "source": [
    "# 4. write output\n",
    "write_papers_csv(papers_top, outpath, task_to_run) \n",
    "# OR\n",
    "#write_email_txt(papers_top, outpath)"
   ]
  },
  {
   "attachments": {},
   "cell_type": "markdown",
   "id": "949478b4",
   "metadata": {},
   "source": [
    "### CURRENT CAVEATS"
   ]
  },
  {
   "attachments": {},
   "cell_type": "markdown",
   "id": "5bd3dfb7",
   "metadata": {},
   "source": [
    "1. The keywords are imperfect. Including \"task\" will exclude a lot of good papers, but leaving it out means we get articles like [this article](https://www.ncbi.nlm.nih.gov/pmc/articles/PMC4359377/) that are about the 'stop codon acting as a stop signal' and not about the stop signal task at all."
   ]
  },
  {
   "attachments": {},
   "cell_type": "markdown",
   "id": "08c3de6f",
   "metadata": {},
   "source": [
    "2. A few emails are lost (somewhere in the ballpark of 2%). I'm not worried."
   ]
  },
  {
   "attachments": {},
   "cell_type": "markdown",
   "id": "30830862",
   "metadata": {},
   "source": [
    "3. We are sorting by # of citations only of other papers in PMC (not necessarily all citations of the paper, but just the ones in PMC). "
   ]
  },
  {
   "attachments": {},
   "cell_type": "markdown",
   "id": "32d357b8",
   "metadata": {},
   "source": [
    "4. This search only gets open access papers, which is not all possible serach results."
   ]
  }
 ],
 "metadata": {
  "kernelspec": {
   "display_name": "Python 3 (ipykernel)",
   "language": "python",
   "name": "python3"
  },
  "language_info": {
   "codemirror_mode": {
    "name": "ipython",
    "version": 3
   },
   "file_extension": ".py",
   "mimetype": "text/x-python",
   "name": "python",
   "nbconvert_exporter": "python",
   "pygments_lexer": "ipython3",
   "version": "3.8.8"
  }
 },
 "nbformat": 4,
 "nbformat_minor": 5
}
